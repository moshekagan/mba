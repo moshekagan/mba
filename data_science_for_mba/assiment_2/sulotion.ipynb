{
 "cells": [
  {
   "cell_type": "code",
   "execution_count": 1,
   "id": "initial_id",
   "metadata": {
    "collapsed": true,
    "ExecuteTime": {
     "end_time": "2025-07-28T19:04:52.825905Z",
     "start_time": "2025-07-28T19:04:52.821802Z"
    }
   },
   "outputs": [],
   "source": [
    "import pandas as pd\n",
    "import matplotlib.pyplot as plt\n",
    "import numpy as np"
   ]
  },
  {
   "cell_type": "code",
   "outputs": [
    {
     "name": "stdout",
     "output_type": "stream",
     "text": [
      "(4999, 21)\n",
      "   customerID  gender  SeniorCitizen Partner Dependents  tenure PhoneService  \\\n",
      "0           1  Female            0.0      No         No     1.0          Yes   \n",
      "1           2    Male            1.0     Yes         No    11.0          Yes   \n",
      "2           3    Male            0.0      No         No     1.0          Yes   \n",
      "3           4  Female            0.0      No        Yes    43.0          Yes   \n",
      "4           5  Female            0.0      No         No    54.0          Yes   \n",
      "\n",
      "  MultipleLines InternetService       OnlineSecurity  ...  \\\n",
      "0            No              No  No internet service  ...   \n",
      "1            No     Fiber optic                   No  ...   \n",
      "2            No              No  No internet service  ...   \n",
      "3            No             DSL                  Yes  ...   \n",
      "4           Yes     Fiber optic                   No  ...   \n",
      "\n",
      "      DeviceProtection          TechSupport          StreamingTV  \\\n",
      "0  No internet service  No internet service  No internet service   \n",
      "1                   No                   No                   No   \n",
      "2  No internet service  No internet service  No internet service   \n",
      "3                   No                   No                   No   \n",
      "4                   No                   No                  Yes   \n",
      "\n",
      "       StreamingMovies        Contract PaperlessBilling  \\\n",
      "0  No internet service  Month-to-month               No   \n",
      "1                   No  Month-to-month              Yes   \n",
      "2  No internet service  Month-to-month               No   \n",
      "3                  Yes  Month-to-month              Yes   \n",
      "4                  Yes        Two year              Yes   \n",
      "\n",
      "               PaymentMethod MonthlyCharges  TotalCharges Churn  \n",
      "0               Mailed check          19.85         19.85    No  \n",
      "1           Electronic check          70.20         834.7    No  \n",
      "2               Mailed check          19.80          19.8   Yes  \n",
      "3           Electronic check          63.95       2737.05    No  \n",
      "4  Bank transfer (automatic)          97.20       5129.45    No  \n",
      "\n",
      "[5 rows x 21 columns]\n"
     ]
    }
   ],
   "source": [
    "churn_training_df = pd.read_csv('churn_training.csv')\n",
    "print(churn_training_df.shape)\n",
    "print(churn_training_df.head())"
   ],
   "metadata": {
    "collapsed": false,
    "ExecuteTime": {
     "end_time": "2025-07-28T19:05:30.863742Z",
     "start_time": "2025-07-28T19:05:30.835541Z"
    }
   },
   "id": "74f316a77dc62783",
   "execution_count": 3
  },
  {
   "cell_type": "code",
   "outputs": [
    {
     "name": "stdout",
     "output_type": "stream",
     "text": [
      "<class 'pandas.core.frame.DataFrame'>\n",
      "RangeIndex: 4999 entries, 0 to 4998\n",
      "Data columns (total 21 columns):\n",
      " #   Column            Non-Null Count  Dtype  \n",
      "---  ------            --------------  -----  \n",
      " 0   customerID        4999 non-null   int64  \n",
      " 1   gender            4999 non-null   object \n",
      " 2   SeniorCitizen     4997 non-null   float64\n",
      " 3   Partner           4998 non-null   object \n",
      " 4   Dependents        4997 non-null   object \n",
      " 5   tenure            4998 non-null   float64\n",
      " 6   PhoneService      4999 non-null   object \n",
      " 7   MultipleLines     4999 non-null   object \n",
      " 8   InternetService   4998 non-null   object \n",
      " 9   OnlineSecurity    4999 non-null   object \n",
      " 10  OnlineBackup      4999 non-null   object \n",
      " 11  DeviceProtection  4998 non-null   object \n",
      " 12  TechSupport       4999 non-null   object \n",
      " 13  StreamingTV       4999 non-null   object \n",
      " 14  StreamingMovies   4998 non-null   object \n",
      " 15  Contract          4998 non-null   object \n",
      " 16  PaperlessBilling  4999 non-null   object \n",
      " 17  PaymentMethod     4997 non-null   object \n",
      " 18  MonthlyCharges    4993 non-null   float64\n",
      " 19  TotalCharges      4999 non-null   object \n",
      " 20  Churn             4999 non-null   object \n",
      "dtypes: float64(3), int64(1), object(17)\n",
      "memory usage: 820.3+ KB\n"
     ]
    }
   ],
   "source": [
    "churn_training_df.info()"
   ],
   "metadata": {
    "collapsed": false,
    "ExecuteTime": {
     "end_time": "2025-07-28T19:06:02.589669Z",
     "start_time": "2025-07-28T19:06:02.574586Z"
    }
   },
   "id": "599d31a19e5583e3",
   "execution_count": 4
  },
  {
   "cell_type": "code",
   "outputs": [
    {
     "data": {
      "text/plain": "        customerID  SeniorCitizen       tenure  MonthlyCharges\ncount  4999.000000    4997.000000  4998.000000     4993.000000\nmean   2500.000000       0.159696    32.265306       64.781965\nstd    1443.231328       0.366360    24.637326       30.145188\nmin       1.000000       0.000000     0.000000       18.250000\n25%    1250.500000       0.000000     8.000000       35.450000\n50%    2500.000000       0.000000    29.000000       70.400000\n75%    3749.500000       0.000000    55.750000       89.950000\nmax    4999.000000       1.000000    72.000000      118.750000",
      "text/html": "<div>\n<style scoped>\n    .dataframe tbody tr th:only-of-type {\n        vertical-align: middle;\n    }\n\n    .dataframe tbody tr th {\n        vertical-align: top;\n    }\n\n    .dataframe thead th {\n        text-align: right;\n    }\n</style>\n<table border=\"1\" class=\"dataframe\">\n  <thead>\n    <tr style=\"text-align: right;\">\n      <th></th>\n      <th>customerID</th>\n      <th>SeniorCitizen</th>\n      <th>tenure</th>\n      <th>MonthlyCharges</th>\n    </tr>\n  </thead>\n  <tbody>\n    <tr>\n      <th>count</th>\n      <td>4999.000000</td>\n      <td>4997.000000</td>\n      <td>4998.000000</td>\n      <td>4993.000000</td>\n    </tr>\n    <tr>\n      <th>mean</th>\n      <td>2500.000000</td>\n      <td>0.159696</td>\n      <td>32.265306</td>\n      <td>64.781965</td>\n    </tr>\n    <tr>\n      <th>std</th>\n      <td>1443.231328</td>\n      <td>0.366360</td>\n      <td>24.637326</td>\n      <td>30.145188</td>\n    </tr>\n    <tr>\n      <th>min</th>\n      <td>1.000000</td>\n      <td>0.000000</td>\n      <td>0.000000</td>\n      <td>18.250000</td>\n    </tr>\n    <tr>\n      <th>25%</th>\n      <td>1250.500000</td>\n      <td>0.000000</td>\n      <td>8.000000</td>\n      <td>35.450000</td>\n    </tr>\n    <tr>\n      <th>50%</th>\n      <td>2500.000000</td>\n      <td>0.000000</td>\n      <td>29.000000</td>\n      <td>70.400000</td>\n    </tr>\n    <tr>\n      <th>75%</th>\n      <td>3749.500000</td>\n      <td>0.000000</td>\n      <td>55.750000</td>\n      <td>89.950000</td>\n    </tr>\n    <tr>\n      <th>max</th>\n      <td>4999.000000</td>\n      <td>1.000000</td>\n      <td>72.000000</td>\n      <td>118.750000</td>\n    </tr>\n  </tbody>\n</table>\n</div>"
     },
     "execution_count": 9,
     "metadata": {},
     "output_type": "execute_result"
    }
   ],
   "source": [
    "churn_training_df.describe()"
   ],
   "metadata": {
    "collapsed": false,
    "ExecuteTime": {
     "end_time": "2025-07-28T19:07:00.243687Z",
     "start_time": "2025-07-28T19:07:00.231049Z"
    }
   },
   "id": "e555e2af8ff612a5",
   "execution_count": 9
  },
  {
   "cell_type": "code",
   "outputs": [],
   "source": [],
   "metadata": {
    "collapsed": false
   },
   "id": "c90f17c727a5fce6"
  }
 ],
 "metadata": {
  "kernelspec": {
   "display_name": "Python 3",
   "language": "python",
   "name": "python3"
  },
  "language_info": {
   "codemirror_mode": {
    "name": "ipython",
    "version": 2
   },
   "file_extension": ".py",
   "mimetype": "text/x-python",
   "name": "python",
   "nbconvert_exporter": "python",
   "pygments_lexer": "ipython2",
   "version": "2.7.6"
  }
 },
 "nbformat": 4,
 "nbformat_minor": 5
}
