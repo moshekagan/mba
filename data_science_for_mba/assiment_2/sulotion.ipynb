{
 "cells": [
  {
   "cell_type": "code",
   "execution_count": 10,
   "id": "initial_id",
   "metadata": {
    "collapsed": true,
    "ExecuteTime": {
     "end_time": "2025-07-29T21:00:46.057943Z",
     "start_time": "2025-07-29T21:00:46.011970Z"
    }
   },
   "outputs": [
    {
     "name": "stdout",
     "output_type": "stream",
     "text": [
      "customerID          0\n",
      "gender              0\n",
      "SeniorCitizen       0\n",
      "Partner             0\n",
      "Dependents          0\n",
      "tenure              0\n",
      "PhoneService        0\n",
      "MultipleLines       0\n",
      "InternetService     0\n",
      "OnlineSecurity      0\n",
      "OnlineBackup        0\n",
      "DeviceProtection    0\n",
      "TechSupport         0\n",
      "StreamingTV         0\n",
      "StreamingMovies     0\n",
      "Contract            0\n",
      "PaperlessBilling    0\n",
      "PaymentMethod       0\n",
      "MonthlyCharges      0\n",
      "TotalCharges        0\n",
      "Churn               0\n",
      "dtype: int64\n",
      "customerID             0\n",
      "gender                 0\n",
      "SeniorCitizen          0\n",
      "Partner                0\n",
      "Dependents             0\n",
      "tenure                 0\n",
      "PhoneService           0\n",
      "MultipleLines          0\n",
      "InternetService        0\n",
      "OnlineSecurity         0\n",
      "OnlineBackup           0\n",
      "DeviceProtection       0\n",
      "TechSupport            0\n",
      "StreamingTV            0\n",
      "StreamingMovies        0\n",
      "Contract               0\n",
      "PaperlessBilling       0\n",
      "PaymentMethod          0\n",
      "MonthlyCharges         0\n",
      "TotalCharges           0\n",
      "Churn               2045\n",
      "dtype: int64\n"
     ]
    }
   ],
   "source": [
    "import pandas as pd\n",
    "\n",
    "# טוען את הקבצים\n",
    "training_df = pd.read_csv(\"churn_training.csv\")\n",
    "holdout_df = pd.read_csv(\"churn_holdout.csv\")\n",
    "\n",
    "# המרת העמודה TotalCharges למספרים, שגיאות יהפכו ל-NaN\n",
    "training_df['TotalCharges'] = pd.to_numeric(training_df['TotalCharges'], errors='coerce')\n",
    "holdout_df['TotalCharges'] = pd.to_numeric(holdout_df['TotalCharges'], errors='coerce')\n",
    "\n",
    "# מילוי ערכים חסרים בעמודות מספריות בעזרת החציוני\n",
    "for col in ['MonthlyCharges', 'TotalCharges', 'tenure', 'SeniorCitizen']:\n",
    "    training_df[col].fillna(training_df[col].median(), inplace=True)\n",
    "    holdout_df[col].fillna(holdout_df[col].median(), inplace=True)\n",
    "\n",
    "# מילוי ערכים חסרים בעמודות קטגוריאליות בעזרת הערך השכיח\n",
    "categorical_cols = ['Partner', 'Dependents', 'InternetService', 'DeviceProtection',\n",
    "                    'StreamingMovies', 'Contract', 'PaymentMethod']\n",
    "for col in categorical_cols:\n",
    "    training_df[col].fillna(training_df[col].mode()[0], inplace=True)\n",
    "\n",
    "# בדיקה: האם נותרו ערכים חסרים?\n",
    "print(training_df.isnull().sum())\n",
    "print(holdout_df.isnull().sum())"
   ]
  },
  {
   "cell_type": "code",
   "outputs": [],
   "source": [
    "from sklearn.model_selection import train_test_split\n",
    "\n",
    "# משתנים מסבירים ותלויים\n",
    "X = training_df.drop(columns=[\"customerID\", \"Churn\"])\n",
    "y = training_df[\"Churn\"].map({\"Yes\": 1, \"No\": 0})  # המרה לערכים בינאריים\n",
    "\n",
    "X_holdout = holdout_df.drop(columns=[\"customerID\", \"Churn\"])\n",
    "\n",
    "# פיצול ל־Train / Validation\n",
    "X_train, X_val, y_train, y_val = train_test_split(\n",
    "    X, y, test_size=0.2, random_state=42, stratify=y\n",
    ")"
   ],
   "metadata": {
    "collapsed": false,
    "ExecuteTime": {
     "end_time": "2025-07-29T21:04:40.881951Z",
     "start_time": "2025-07-29T21:04:40.870618Z"
    }
   },
   "id": "de32def2ac23a910",
   "execution_count": 12
  },
  {
   "cell_type": "code",
   "outputs": [],
   "source": [
    "from sklearn.pipeline import Pipeline\n",
    "from sklearn.compose import ColumnTransformer\n",
    "from sklearn.preprocessing import OneHotEncoder, StandardScaler\n",
    "from sklearn.impute import SimpleImputer\n",
    "\n",
    "# משתנים קטגוריאליים וכמותיים\n",
    "categorical_cols = X.select_dtypes(include=\"object\").columns.tolist()\n",
    "numeric_cols = X.select_dtypes(include=[\"float64\", \"int64\"]).columns.tolist()\n",
    "\n",
    "# Pipeline לעיבוד קטגוריאלי\n",
    "categorical_pipeline = Pipeline(steps=[\n",
    "    (\"imputer\", SimpleImputer(strategy=\"most_frequent\")),\n",
    "    (\"encoder\", OneHotEncoder(handle_unknown=\"ignore\"))\n",
    "])\n",
    "\n",
    "# Pipeline לעיבוד כמותי\n",
    "numeric_pipeline = Pipeline(steps=[\n",
    "    (\"imputer\", SimpleImputer(strategy=\"median\")),\n",
    "    (\"scaler\", StandardScaler())\n",
    "])\n",
    "\n",
    "# מאחד את הכל\n",
    "preprocessor = ColumnTransformer(transformers=[\n",
    "    (\"cat\", categorical_pipeline, categorical_cols),\n",
    "    (\"num\", numeric_pipeline, numeric_cols)\n",
    "])"
   ],
   "metadata": {
    "collapsed": false,
    "ExecuteTime": {
     "end_time": "2025-07-29T21:04:52.707315Z",
     "start_time": "2025-07-29T21:04:52.594605Z"
    }
   },
   "id": "8a8a4a8694754f36",
   "execution_count": 13
  },
  {
   "cell_type": "code",
   "outputs": [],
   "source": [
    "# מתאים את ה-preprocessing על סט האימון ומיישם גם על סט האימות\n",
    "X_train_processed = preprocessor.fit_transform(X_train)\n",
    "X_val_processed = preprocessor.transform(X_val)\n",
    "X_holdout_processed = preprocessor.transform(X_holdout)"
   ],
   "metadata": {
    "collapsed": false,
    "ExecuteTime": {
     "end_time": "2025-07-29T21:05:12.903446Z",
     "start_time": "2025-07-29T21:05:12.861897Z"
    }
   },
   "id": "26d61907930f80d",
   "execution_count": 14
  },
  {
   "cell_type": "code",
   "outputs": [
    {
     "data": {
      "text/plain": "LogisticRegression(max_iter=1000)",
      "text/html": "<style>#sk-container-id-1 {color: black;}#sk-container-id-1 pre{padding: 0;}#sk-container-id-1 div.sk-toggleable {background-color: white;}#sk-container-id-1 label.sk-toggleable__label {cursor: pointer;display: block;width: 100%;margin-bottom: 0;padding: 0.3em;box-sizing: border-box;text-align: center;}#sk-container-id-1 label.sk-toggleable__label-arrow:before {content: \"▸\";float: left;margin-right: 0.25em;color: #696969;}#sk-container-id-1 label.sk-toggleable__label-arrow:hover:before {color: black;}#sk-container-id-1 div.sk-estimator:hover label.sk-toggleable__label-arrow:before {color: black;}#sk-container-id-1 div.sk-toggleable__content {max-height: 0;max-width: 0;overflow: hidden;text-align: left;background-color: #f0f8ff;}#sk-container-id-1 div.sk-toggleable__content pre {margin: 0.2em;color: black;border-radius: 0.25em;background-color: #f0f8ff;}#sk-container-id-1 input.sk-toggleable__control:checked~div.sk-toggleable__content {max-height: 200px;max-width: 100%;overflow: auto;}#sk-container-id-1 input.sk-toggleable__control:checked~label.sk-toggleable__label-arrow:before {content: \"▾\";}#sk-container-id-1 div.sk-estimator input.sk-toggleable__control:checked~label.sk-toggleable__label {background-color: #d4ebff;}#sk-container-id-1 div.sk-label input.sk-toggleable__control:checked~label.sk-toggleable__label {background-color: #d4ebff;}#sk-container-id-1 input.sk-hidden--visually {border: 0;clip: rect(1px 1px 1px 1px);clip: rect(1px, 1px, 1px, 1px);height: 1px;margin: -1px;overflow: hidden;padding: 0;position: absolute;width: 1px;}#sk-container-id-1 div.sk-estimator {font-family: monospace;background-color: #f0f8ff;border: 1px dotted black;border-radius: 0.25em;box-sizing: border-box;margin-bottom: 0.5em;}#sk-container-id-1 div.sk-estimator:hover {background-color: #d4ebff;}#sk-container-id-1 div.sk-parallel-item::after {content: \"\";width: 100%;border-bottom: 1px solid gray;flex-grow: 1;}#sk-container-id-1 div.sk-label:hover label.sk-toggleable__label {background-color: #d4ebff;}#sk-container-id-1 div.sk-serial::before {content: \"\";position: absolute;border-left: 1px solid gray;box-sizing: border-box;top: 0;bottom: 0;left: 50%;z-index: 0;}#sk-container-id-1 div.sk-serial {display: flex;flex-direction: column;align-items: center;background-color: white;padding-right: 0.2em;padding-left: 0.2em;position: relative;}#sk-container-id-1 div.sk-item {position: relative;z-index: 1;}#sk-container-id-1 div.sk-parallel {display: flex;align-items: stretch;justify-content: center;background-color: white;position: relative;}#sk-container-id-1 div.sk-item::before, #sk-container-id-1 div.sk-parallel-item::before {content: \"\";position: absolute;border-left: 1px solid gray;box-sizing: border-box;top: 0;bottom: 0;left: 50%;z-index: -1;}#sk-container-id-1 div.sk-parallel-item {display: flex;flex-direction: column;z-index: 1;position: relative;background-color: white;}#sk-container-id-1 div.sk-parallel-item:first-child::after {align-self: flex-end;width: 50%;}#sk-container-id-1 div.sk-parallel-item:last-child::after {align-self: flex-start;width: 50%;}#sk-container-id-1 div.sk-parallel-item:only-child::after {width: 0;}#sk-container-id-1 div.sk-dashed-wrapped {border: 1px dashed gray;margin: 0 0.4em 0.5em 0.4em;box-sizing: border-box;padding-bottom: 0.4em;background-color: white;}#sk-container-id-1 div.sk-label label {font-family: monospace;font-weight: bold;display: inline-block;line-height: 1.2em;}#sk-container-id-1 div.sk-label-container {text-align: center;}#sk-container-id-1 div.sk-container {/* jupyter's `normalize.less` sets `[hidden] { display: none; }` but bootstrap.min.css set `[hidden] { display: none !important; }` so we also need the `!important` here to be able to override the default hidden behavior on the sphinx rendered scikit-learn.org. See: https://github.com/scikit-learn/scikit-learn/issues/21755 */display: inline-block !important;position: relative;}#sk-container-id-1 div.sk-text-repr-fallback {display: none;}</style><div id=\"sk-container-id-1\" class=\"sk-top-container\"><div class=\"sk-text-repr-fallback\"><pre>LogisticRegression(max_iter=1000)</pre><b>In a Jupyter environment, please rerun this cell to show the HTML representation or trust the notebook. <br />On GitHub, the HTML representation is unable to render, please try loading this page with nbviewer.org.</b></div><div class=\"sk-container\" hidden><div class=\"sk-item\"><div class=\"sk-estimator sk-toggleable\"><input class=\"sk-toggleable__control sk-hidden--visually\" id=\"sk-estimator-id-1\" type=\"checkbox\" checked><label for=\"sk-estimator-id-1\" class=\"sk-toggleable__label sk-toggleable__label-arrow\">LogisticRegression</label><div class=\"sk-toggleable__content\"><pre>LogisticRegression(max_iter=1000)</pre></div></div></div></div></div>"
     },
     "execution_count": 15,
     "metadata": {},
     "output_type": "execute_result"
    }
   ],
   "source": [
    "from sklearn.linear_model import LogisticRegression\n",
    "\n",
    "# מאחד את כל סט האימון\n",
    "X_full = training_df.drop(columns=[\"customerID\", \"Churn\"])\n",
    "y_full = training_df[\"Churn\"].map({\"Yes\": 1, \"No\": 0})\n",
    "\n",
    "# טרנספורמציה\n",
    "X_full_processed = preprocessor.fit_transform(X_full)\n",
    "X_holdout_processed = preprocessor.transform(holdout_df.drop(columns=[\"customerID\", \"Churn\"]))\n",
    "\n",
    "# אימון המודל הסופי\n",
    "final_model = LogisticRegression(max_iter=1000)\n",
    "final_model.fit(X_full_processed, y_full)"
   ],
   "metadata": {
    "collapsed": false,
    "ExecuteTime": {
     "end_time": "2025-07-29T21:06:08.228359Z",
     "start_time": "2025-07-29T21:06:08.144926Z"
    }
   },
   "id": "e81deb4403cb3ae9",
   "execution_count": 15
  },
  {
   "cell_type": "code",
   "outputs": [
    {
     "name": "stdout",
     "output_type": "stream",
     "text": [
      "נשמר הקובץ: submission.csv\n"
     ]
    }
   ],
   "source": [
    "# חיזוי על סט ההולד-אאוט\n",
    "holdout_preds = final_model.predict(X_holdout_processed)\n",
    "\n",
    "# יצירת DataFrame לפלט\n",
    "submission = pd.DataFrame({\n",
    "    \"CustomerID\": holdout_df[\"customerID\"],\n",
    "    \"Prediction_Churn\": holdout_preds\n",
    "})\n",
    "\n",
    "# שמירת הקובץ\n",
    "submission.to_csv(\"submission.csv\", index=False)\n",
    "print(\"נשמר הקובץ: submission.csv\")"
   ],
   "metadata": {
    "collapsed": false,
    "ExecuteTime": {
     "end_time": "2025-07-29T21:06:20.644020Z",
     "start_time": "2025-07-29T21:06:20.631284Z"
    }
   },
   "id": "cf8bf934e3e8a3ca",
   "execution_count": 16
  },
  {
   "cell_type": "code",
   "outputs": [
    {
     "name": "stdout",
     "output_type": "stream",
     "text": [
      "המודל חזה ש-436 מתוך 2045 לקוחות ינטשו את החברה.\n",
      "F1 על סט האימות: 0.5861\n"
     ]
    }
   ],
   "source": [
    "from sklearn.linear_model import LogisticRegression\n",
    "from sklearn.metrics import f1_score\n",
    "import pandas as pd\n",
    "\n",
    "# יצירת מערך אימון מלא\n",
    "X_full = training_df.drop(columns=[\"customerID\", \"Churn\"])\n",
    "y_full = training_df[\"Churn\"].map({\"Yes\": 1, \"No\": 0})\n",
    "\n",
    "# התאמת ה-preprocessor והמרת הנתונים\n",
    "X_full_processed = preprocessor.fit_transform(X_full)\n",
    "X_holdout_processed = preprocessor.transform(holdout_df.drop(columns=[\"customerID\", \"Churn\"]))\n",
    "\n",
    "# אימון המודל הסופי\n",
    "final_model = LogisticRegression(max_iter=1000)\n",
    "final_model.fit(X_full_processed, y_full)\n",
    "\n",
    "# חיזוי על סט ה-holdout\n",
    "holdout_preds = final_model.predict(X_holdout_processed)\n",
    "\n",
    "# יצירת DataFrame עם התחזיות\n",
    "submission = pd.DataFrame({\n",
    "    \"CustomerID\": holdout_df[\"customerID\"],\n",
    "    \"Prediction_Churn\": holdout_preds\n",
    "})\n",
    "\n",
    "# שמירת קובץ התחזיות\n",
    "submission.to_csv(\"submission.csv\", index=False)\n",
    "\n",
    "# חישוב F1 על סט האימות (validation)\n",
    "val_preds = final_model.predict(X_val_processed)\n",
    "val_f1 = f1_score(y_val, val_preds)\n",
    "\n",
    "# הדפסת תוצאות\n",
    "print(f\"המודל חזה ש-{submission['Prediction_Churn'].sum()} מתוך {len(submission)} לקוחות ינטשו את החברה.\")\n",
    "print(f\"F1 על סט האימות: {val_f1:.4f}\")"
   ],
   "metadata": {
    "collapsed": false,
    "ExecuteTime": {
     "end_time": "2025-07-29T21:07:32.566716Z",
     "start_time": "2025-07-29T21:07:32.431728Z"
    }
   },
   "id": "f8cf4c9016c5341a",
   "execution_count": 17
  },
  {
   "cell_type": "code",
   "outputs": [],
   "source": [],
   "metadata": {
    "collapsed": false
   },
   "id": "a3a2b46a5db16fe7"
  }
 ],
 "metadata": {
  "kernelspec": {
   "display_name": "Python 3",
   "language": "python",
   "name": "python3"
  },
  "language_info": {
   "codemirror_mode": {
    "name": "ipython",
    "version": 2
   },
   "file_extension": ".py",
   "mimetype": "text/x-python",
   "name": "python",
   "nbconvert_exporter": "python",
   "pygments_lexer": "ipython2",
   "version": "2.7.6"
  }
 },
 "nbformat": 4,
 "nbformat_minor": 5
}
